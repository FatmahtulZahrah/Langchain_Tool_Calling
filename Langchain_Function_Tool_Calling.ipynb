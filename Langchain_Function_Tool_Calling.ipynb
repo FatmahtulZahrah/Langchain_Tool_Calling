{
  "nbformat": 4,
  "nbformat_minor": 0,
  "metadata": {
    "colab": {
      "provenance": []
    },
    "kernelspec": {
      "name": "python3",
      "display_name": "Python 3"
    },
    "language_info": {
      "name": "python"
    }
  },
  "cells": [
    {
      "cell_type": "code",
      "execution_count": 7,
      "metadata": {
        "id": "3RlF4WUJCKvp"
      },
      "outputs": [],
      "source": [
        "!pip install -q -U langchain_google_genai"
      ]
    },
    {
      "cell_type": "code",
      "source": [
        "from google.colab import userdata\n",
        "Google_Api_Key = userdata.get('GEMINI_KEY')"
      ],
      "metadata": {
        "id": "su8MmWllEQjW"
      },
      "execution_count": 8,
      "outputs": []
    },
    {
      "cell_type": "code",
      "source": [
        "# print(Google_Api_Key)"
      ],
      "metadata": {
        "id": "BWLZiylDGSr-"
      },
      "execution_count": 24,
      "outputs": []
    },
    {
      "cell_type": "code",
      "source": [
        "import langchain_google_genai\n",
        "dir(langchain_google_genai)"
      ],
      "metadata": {
        "colab": {
          "base_uri": "https://localhost:8080/"
        },
        "collapsed": true,
        "id": "p6njfZ13Igtk",
        "outputId": "91e20aea-2ffb-4e07-a6a9-d52c64d9affb"
      },
      "execution_count": 10,
      "outputs": [
        {
          "output_type": "execute_result",
          "data": {
            "text/plain": [
              "['AqaInput',\n",
              " 'AqaOutput',\n",
              " 'ChatGoogleGenerativeAI',\n",
              " 'DoesNotExistsException',\n",
              " 'GenAIAqa',\n",
              " 'GoogleGenerativeAI',\n",
              " 'GoogleGenerativeAIEmbeddings',\n",
              " 'GoogleVectorStore',\n",
              " 'HarmBlockThreshold',\n",
              " 'HarmCategory',\n",
              " '__all__',\n",
              " '__builtins__',\n",
              " '__cached__',\n",
              " '__doc__',\n",
              " '__file__',\n",
              " '__loader__',\n",
              " '__name__',\n",
              " '__package__',\n",
              " '__path__',\n",
              " '__spec__',\n",
              " '_common',\n",
              " '_enums',\n",
              " '_function_utils',\n",
              " '_genai_extension',\n",
              " '_image_utils',\n",
              " 'chat_models',\n",
              " 'embeddings',\n",
              " 'genai_aqa',\n",
              " 'google_vector_store',\n",
              " 'llms']"
            ]
          },
          "metadata": {},
          "execution_count": 10
        }
      ]
    },
    {
      "cell_type": "code",
      "source": [
        "from langchain_google_genai import ChatGoogleGenerativeAI\n",
        "\n"
      ],
      "metadata": {
        "id": "MOSgPOssGWVU"
      },
      "execution_count": 11,
      "outputs": []
    },
    {
      "cell_type": "code",
      "source": [
        "llm = ChatGoogleGenerativeAI(\n",
        "    api_key = Google_Api_Key,\n",
        "    model = \"gemini-2.0-flash-exp\",\n",
        ")"
      ],
      "metadata": {
        "id": "IcmQ7VZmJ4rR"
      },
      "execution_count": 12,
      "outputs": []
    },
    {
      "cell_type": "code",
      "source": [
        "llm.invoke(\"Give me the capital of france?\")"
      ],
      "metadata": {
        "colab": {
          "base_uri": "https://localhost:8080/"
        },
        "id": "I-ylprDRQcNg",
        "outputId": "70a90923-50d2-473e-b562-401457027dfe"
      },
      "execution_count": 13,
      "outputs": [
        {
          "output_type": "execute_result",
          "data": {
            "text/plain": [
              "AIMessage(content='The capital of France is **Paris**.', additional_kwargs={}, response_metadata={'prompt_feedback': {'block_reason': 0, 'safety_ratings': []}, 'finish_reason': 'STOP', 'safety_ratings': [{'category': 'HARM_CATEGORY_HATE_SPEECH', 'probability': 'NEGLIGIBLE', 'blocked': False}, {'category': 'HARM_CATEGORY_DANGEROUS_CONTENT', 'probability': 'NEGLIGIBLE', 'blocked': False}, {'category': 'HARM_CATEGORY_HARASSMENT', 'probability': 'NEGLIGIBLE', 'blocked': False}, {'category': 'HARM_CATEGORY_SEXUALLY_EXPLICIT', 'probability': 'NEGLIGIBLE', 'blocked': False}]}, id='run-3331c9c1-8a71-480c-ab9a-fe1f5441884d-0', usage_metadata={'input_tokens': 8, 'output_tokens': 9, 'total_tokens': 17, 'input_token_details': {'cache_read': 0}})"
            ]
          },
          "metadata": {},
          "execution_count": 13
        }
      ]
    },
    {
      "cell_type": "code",
      "source": [
        "name = \"fatima\"    # python in-built function\n",
        "print(name)"
      ],
      "metadata": {
        "colab": {
          "base_uri": "https://localhost:8080/"
        },
        "id": "BfNBvk01jfwo",
        "outputId": "04737506-5d74-47c5-9600-4a228665c8a4"
      },
      "execution_count": 14,
      "outputs": [
        {
          "output_type": "stream",
          "name": "stdout",
          "text": [
            "fatima\n"
          ]
        }
      ]
    },
    {
      "cell_type": "code",
      "source": [
        "def name():                #python user_defined function\n",
        "  print(\"fatima\")\n",
        "name()"
      ],
      "metadata": {
        "colab": {
          "base_uri": "https://localhost:8080/"
        },
        "id": "uvdyHF3xjjUe",
        "outputId": "f9877f61-8c96-4bba-9cf9-c75a3083cc92"
      },
      "execution_count": 15,
      "outputs": [
        {
          "output_type": "stream",
          "name": "stdout",
          "text": [
            "fatima\n"
          ]
        }
      ]
    },
    {
      "cell_type": "code",
      "source": [
        "from langchain_core.tools import tool\n",
        "@tool\n",
        "def annual_return(a:int) -> float:\n",
        "  \"\"\"Returns annual return of a number\"\"\"\n",
        "  return (a + 15)/5+3\n",
        "@tool\n",
        "def add(a:int) ->int:\n",
        "  \"\"\"Returns addition of two numbers a & b\"\"\"\n",
        "  return a + b\n",
        "\n",
        "@tool\n",
        "def multiply(a:int) -> int:\n",
        "  \"\"\"Returns multiplication of two numbers a return a & b\"\"\"\n",
        "  return a +b\n",
        "\n",
        "tools =[annual_return,add,multiply]"
      ],
      "metadata": {
        "id": "X5bsiETGSJTX"
      },
      "execution_count": 16,
      "outputs": []
    },
    {
      "cell_type": "code",
      "source": [
        "llm.invoke(\"What is annual return of 10?\")"
      ],
      "metadata": {
        "colab": {
          "base_uri": "https://localhost:8080/"
        },
        "id": "loVgN6tDXL5W",
        "outputId": "c2cd85cc-3ba4-4aea-ed32-11ebc80f4271"
      },
      "execution_count": 17,
      "outputs": [
        {
          "output_type": "execute_result",
          "data": {
            "text/plain": [
              "AIMessage(content=\"An annual return of 10 is typically expressed as a **10% annual return**. \\n\\nHere's a breakdown of what that means:\\n\\n* **Return:** This refers to the profit or loss you make on an investment over a period of time.\\n* **Annual:** This means the return is calculated over a one-year period.\\n* **10%:** This is the percentage of your initial investment that you gained (or lost) in that year.\\n\\n**Example:**\\n\\nLet's say you invest $100. A 10% annual return means:\\n\\n* **After one year:** You would have $110 (your original $100 plus $10 profit).\\n* **After two years (assuming the same 10% return):** You'd have approximately $121 (your $110 from the previous year plus 10% of $110, which is $11).\\n\\n**Key Points to Remember:**\\n\\n* **It's a percentage:** The return is expressed as a percentage of your original investment, not a fixed dollar amount.\\n* **It's an average:** An annual return is often an average over a year. The actual return might fluctuate throughout the year.\\n* **Past performance is not indicative of future results:** Just because an investment had a 10% return in the past doesn't guarantee it will have the same return in the future.\\n* **Compounding:** The example above shows the power of compounding, where your returns also earn returns.\\n\\n**In summary, an annual return of 10 is generally understood to be a 10% annual return on an investment.**\", additional_kwargs={}, response_metadata={'prompt_feedback': {'block_reason': 0, 'safety_ratings': []}, 'finish_reason': 'STOP', 'safety_ratings': [{'category': 'HARM_CATEGORY_HATE_SPEECH', 'probability': 'NEGLIGIBLE', 'blocked': False}, {'category': 'HARM_CATEGORY_DANGEROUS_CONTENT', 'probability': 'NEGLIGIBLE', 'blocked': False}, {'category': 'HARM_CATEGORY_HARASSMENT', 'probability': 'NEGLIGIBLE', 'blocked': False}, {'category': 'HARM_CATEGORY_SEXUALLY_EXPLICIT', 'probability': 'NEGLIGIBLE', 'blocked': False}]}, id='run-8fcd6b6a-eba4-4bb1-a657-743ce290a597-0', usage_metadata={'input_tokens': 10, 'output_tokens': 357, 'total_tokens': 367, 'input_token_details': {'cache_read': 0}})"
            ]
          },
          "metadata": {},
          "execution_count": 17
        }
      ]
    },
    {
      "cell_type": "code",
      "source": [
        "llm_with_tools = llm.bind_tools(tools)"
      ],
      "metadata": {
        "id": "ivz6bOjvXj5p"
      },
      "execution_count": 18,
      "outputs": []
    },
    {
      "cell_type": "code",
      "source": [
        "from langchain_core.messages import HumanMessage\n",
        "question =\"what is the annual return of 10?\"\n",
        "messages = [HumanMessage(content=question)]\n",
        "display(messages)\n",
        "\n",
        "# llm_with_tools.invoke(\"What is the annual return of 10?\")"
      ],
      "metadata": {
        "colab": {
          "base_uri": "https://localhost:8080/",
          "height": 34
        },
        "id": "lP5_EQBqXxyT",
        "outputId": "aebd89fc-088e-47f9-fd75-ae6dff4795d3"
      },
      "execution_count": 19,
      "outputs": [
        {
          "output_type": "display_data",
          "data": {
            "text/plain": [
              "[HumanMessage(content='what is the annual return of 10?', additional_kwargs={}, response_metadata={})]"
            ]
          },
          "metadata": {}
        }
      ]
    },
    {
      "cell_type": "code",
      "source": [
        "ai_msg = llm_with_tools.invoke(messages)\n",
        "messages.append(ai_msg)\n",
        "display(ai_msg)"
      ],
      "metadata": {
        "colab": {
          "base_uri": "https://localhost:8080/",
          "height": 121
        },
        "id": "Oo4OjHOLi-yc",
        "outputId": "2832f24b-9701-4709-9d21-40a75e5a3d15"
      },
      "execution_count": 20,
      "outputs": [
        {
          "output_type": "display_data",
          "data": {
            "text/plain": [
              "AIMessage(content=\"I cannot calculate the annual return without the necessary information. The function requires a value for 'a', but there's no information about what 'a' represents in this context. Could you please provide more details?\", additional_kwargs={}, response_metadata={'prompt_feedback': {'block_reason': 0, 'safety_ratings': []}, 'finish_reason': 'STOP', 'safety_ratings': [{'category': 'HARM_CATEGORY_HATE_SPEECH', 'probability': 'NEGLIGIBLE', 'blocked': False}, {'category': 'HARM_CATEGORY_DANGEROUS_CONTENT', 'probability': 'NEGLIGIBLE', 'blocked': False}, {'category': 'HARM_CATEGORY_HARASSMENT', 'probability': 'NEGLIGIBLE', 'blocked': False}, {'category': 'HARM_CATEGORY_SEXUALLY_EXPLICIT', 'probability': 'NEGLIGIBLE', 'blocked': False}]}, id='run-e3f43759-a35f-43d1-8669-54f0899803db-0', usage_metadata={'input_tokens': 127, 'output_tokens': 44, 'total_tokens': 171, 'input_token_details': {'cache_read': 0}})"
            ]
          },
          "metadata": {}
        }
      ]
    },
    {
      "cell_type": "code",
      "source": [
        "ai_msg.tool_calls"
      ],
      "metadata": {
        "colab": {
          "base_uri": "https://localhost:8080/"
        },
        "id": "mRrWgvC1jCSl",
        "outputId": "dfd7669b-2428-429d-e0d3-e2cfb8af2fec"
      },
      "execution_count": 21,
      "outputs": [
        {
          "output_type": "execute_result",
          "data": {
            "text/plain": [
              "[]"
            ]
          },
          "metadata": {},
          "execution_count": 21
        }
      ]
    },
    {
      "cell_type": "code",
      "source": [
        "for tool_call in ai_msg.tool_calls:\n",
        "  selected_tool = {\n",
        "      \"add\": add,\n",
        "      \"annual_return\": annual_return,\n",
        "      \"multiply\": multiply\n",
        "  }[tool_call[\"name\"].lower()]\n",
        "  tool_msg = selected_tool.invoke(tool_call)\n",
        "  display(tool_msg)\n",
        "  messages.append(tool_msg)"
      ],
      "metadata": {
        "id": "hUA-4VNijF0J"
      },
      "execution_count": 22,
      "outputs": []
    }
  ]
}
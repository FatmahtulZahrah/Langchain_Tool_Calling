{
  "nbformat": 4,
  "nbformat_minor": 0,
  "metadata": {
    "colab": {
      "provenance": []
    },
    "kernelspec": {
      "name": "python3",
      "display_name": "Python 3"
    },
    "language_info": {
      "name": "python"
    }
  },
  "cells": [
    {
      "cell_type": "code",
      "execution_count": 14,
      "metadata": {
        "id": "3RlF4WUJCKvp"
      },
      "outputs": [],
      "source": [
        "!pip install -q -U langchain_google_genai"
      ]
    },
    {
      "cell_type": "code",
      "source": [
        "from google.colab import userdata\n",
        "Google_Api_Key = userdata.get('GEMINI_KEY')"
      ],
      "metadata": {
        "id": "su8MmWllEQjW"
      },
    {
      "cell_type": "code",
      "source": [
        "import langchain_google_genai\n",
        "dir(langchain_google_genai)"
      ],
      "metadata": {
        "colab": {
          "base_uri": "https://localhost:8080/"
        },
        "collapsed": true,
        "id": "p6njfZ13Igtk",
        "outputId": "fef6ff80-a4f2-4c43-9d94-f82b85b3c726"
      },
      "execution_count": 38,
      "outputs": [
        {
          "output_type": "execute_result",
          "data": {
            "text/plain": [
              "['AqaInput',\n",
              " 'AqaOutput',\n",
              " 'ChatGoogleGenerativeAI',\n",
              " 'DoesNotExistsException',\n",
              " 'GenAIAqa',\n",
              " 'GoogleGenerativeAI',\n",
              " 'GoogleGenerativeAIEmbeddings',\n",
              " 'GoogleVectorStore',\n",
              " 'HarmBlockThreshold',\n",
              " 'HarmCategory',\n",
              " '__all__',\n",
              " '__builtins__',\n",
              " '__cached__',\n",
              " '__doc__',\n",
              " '__file__',\n",
              " '__loader__',\n",
              " '__name__',\n",
              " '__package__',\n",
              " '__path__',\n",
              " '__spec__',\n",
              " '_common',\n",
              " '_enums',\n",
              " '_function_utils',\n",
              " '_genai_extension',\n",
              " '_image_utils',\n",
              " 'chat_models',\n",
              " 'embeddings',\n",
              " 'genai_aqa',\n",
              " 'google_vector_store',\n",
              " 'llms']"
            ]
          },
          "metadata": {},
          "execution_count": 38
        }
      ]
    },
    {
      "cell_type": "code",
      "source": [
        "from langchain_google_genai import ChatGoogleGenerativeAI\n",
        "\n"
      ],
      "metadata": {
        "id": "MOSgPOssGWVU"
      },
      "execution_count": 10,
      "outputs": []
    },
    {
      "cell_type": "code",
      "source": [
        "llm = ChatGoogleGenerativeAI(\n",
        "    api_key = Google_Api_Key,\n",
        "    model = \"gemini-2.0-flash-exp\",\n",
        ")"
      ],
      "metadata": {
        "id": "IcmQ7VZmJ4rR"
      },
      "execution_count": 25,
      "outputs": []
    },
    {
      "cell_type": "code",
      "source": [
        "llm.invoke(\"Give me the capital of france?\")"
      ],
      "metadata": {
        "colab": {
          "base_uri": "https://localhost:8080/"
        },
        "id": "I-ylprDRQcNg",
        "outputId": "17c88b87-fa45-4798-a7ba-02b614a50290"
      },
      "execution_count": 27,
      "outputs": [
        {
          "output_type": "execute_result",
          "data": {
            "text/plain": [
              "AIMessage(content='The capital of France is **Paris**.', additional_kwargs={}, response_metadata={'prompt_feedback': {'block_reason': 0, 'safety_ratings': []}, 'finish_reason': 'STOP', 'safety_ratings': [{'category': 'HARM_CATEGORY_HATE_SPEECH', 'probability': 'NEGLIGIBLE', 'blocked': False}, {'category': 'HARM_CATEGORY_DANGEROUS_CONTENT', 'probability': 'NEGLIGIBLE', 'blocked': False}, {'category': 'HARM_CATEGORY_HARASSMENT', 'probability': 'NEGLIGIBLE', 'blocked': False}, {'category': 'HARM_CATEGORY_SEXUALLY_EXPLICIT', 'probability': 'NEGLIGIBLE', 'blocked': False}]}, id='run-59a6892e-a953-408c-af60-275f473c72e6-0', usage_metadata={'input_tokens': 8, 'output_tokens': 9, 'total_tokens': 17, 'input_token_details': {'cache_read': 0}})"
            ]
          },
          "metadata": {},
          "execution_count": 27
        }
      ]
    },
    {
      "cell_type": "code",
      "source": [
        "name = \"fatima\"    # python in-built function\n",
        "print(name)"
      ],
      "metadata": {
        "colab": {
          "base_uri": "https://localhost:8080/"
        },
        "id": "BfNBvk01jfwo",
        "outputId": "2f4e6ded-44fc-4d7b-a8d0-95c0b12f6078"
      },
      "execution_count": 39,
      "outputs": [
        {
          "output_type": "stream",
          "name": "stdout",
          "text": [
            "fatima\n"
          ]
        }
      ]
    },
    {
      "cell_type": "code",
      "source": [
        "def name():                #python user_defined function\n",
        "  print(\"fatima\")\n",
        "name()"
      ],
      "metadata": {
        "colab": {
          "base_uri": "https://localhost:8080/"
        },
        "id": "uvdyHF3xjjUe",
        "outputId": "1affeed3-a1d9-4eca-9d23-606d272a2939"
      },
      "execution_count": 40,
      "outputs": [
        {
          "output_type": "stream",
          "name": "stdout",
          "text": [
            "fatima\n"
          ]
        }
      ]
    },
    {
      "cell_type": "code",
      "source": [
        "from langchain_core.tools import tool\n",
        "@tool\n",
        "def annual_return(a:int) -> float:\n",
        "  \"\"\"Returns annual return of a number\"\"\"\n",
        "  return (a + 15)/5+3\n",
        "@tool\n",
        "def add(a:int) ->int:\n",
        "  \"\"\"Returns addition of two numbers a & b\"\"\"\n",
        "  return a + b\n",
        "\n",
        "@tool\n",
        "def multiply(a:int) -> int:\n",
        "  \"\"\"Returns multiplication of two numbers a return a & b\"\"\"\n",
        "  return a +b\n",
        "\n",
        "tools =[annual_return,add,multiply]"
      ],
      "metadata": {
        "id": "X5bsiETGSJTX"
      },
      "execution_count": 31,
      "outputs": []
    },
    {
      "cell_type": "code",
      "source": [
        "llm.invoke(\"What is annual return of 10?\")"
      ],
      "metadata": {
        "colab": {
          "base_uri": "https://localhost:8080/"
        },
        "id": "loVgN6tDXL5W",
        "outputId": "816fd1a4-41fd-4f9a-9ec4-ddfc434906c6"
      },
      "execution_count": 29,
      "outputs": [
        {
          "output_type": "execute_result",
          "data": {
            "text/plain": [
              "AIMessage(content=\"An annual return of 10 means that an investment has increased in value by 10% over the course of a year.\\n\\n**Here's a breakdown:**\\n\\n* **Percentage:** The return is expressed as a percentage, indicating the proportional increase in value.\\n* **Annual:** The return is calculated over a one-year period.\\n* **10%:** This means that for every $100 invested, the investment has gained $10 in value over the year.\\n\\n**Example:**\\n\\nIf you invest $100 and achieve an annual return of 10%, your investment will be worth $110 at the end of the year.\\n\\n**Important Considerations:**\\n\\n* **Gross vs. Net:** The return could be gross (before fees or taxes) or net (after fees and taxes). Make sure you understand which type of return is being discussed.\\n* **Compounding:** If you earn 10% in year one and then another 10% in year two, the second 10% is applied to the increased value from year one. This is known as compounding and can significantly increase your returns over time.\\n* **Average vs. Actual:** If you are looking at past performance, keep in mind that an average annual return of 10% doesn't mean the investment gained 10% every year. Some years might have been higher, and some might have been lower.\\n* **Risk:** Generally, higher potential returns come with higher risk. A 10% return might be considered a good return, but it's important to understand the risk involved in achieving that return.\\n* **Inflation:** An annual return of 10% is good, but you also need to consider inflation. If inflation is 5%, your real return (the return after accounting for inflation) is only 5%.\\n\\n**In summary, an annual return of 10 means your investment has grown by 10% over the course of a year.** However, it's crucial to understand the context and consider factors like fees, taxes, compounding, risk, and inflation when evaluating the return.\", additional_kwargs={}, response_metadata={'prompt_feedback': {'block_reason': 0, 'safety_ratings': []}, 'finish_reason': 'STOP', 'safety_ratings': [{'category': 'HARM_CATEGORY_HATE_SPEECH', 'probability': 'NEGLIGIBLE', 'blocked': False}, {'category': 'HARM_CATEGORY_DANGEROUS_CONTENT', 'probability': 'NEGLIGIBLE', 'blocked': False}, {'category': 'HARM_CATEGORY_HARASSMENT', 'probability': 'NEGLIGIBLE', 'blocked': False}, {'category': 'HARM_CATEGORY_SEXUALLY_EXPLICIT', 'probability': 'NEGLIGIBLE', 'blocked': False}]}, id='run-9e63c436-9bde-4c92-a936-f84a16726af1-0', usage_metadata={'input_tokens': 10, 'output_tokens': 446, 'total_tokens': 456, 'input_token_details': {'cache_read': 0}})"
            ]
          },
          "metadata": {},
          "execution_count": 29
        }
      ]
    },
    {
      "cell_type": "code",
      "source": [
        "llm_with_tools = llm.bind_tools(tools)"
      ],
      "metadata": {
        "id": "ivz6bOjvXj5p"
      },
      "execution_count": 32,
      "outputs": []
    },
    {
      "cell_type": "code",
      "source": [
        "from langchain_core.messages import HumanMessage\n",
        "question =\"what is the annual return of 10?\"\n",
        "messages = [HumanMessage(content=question)]\n",
        "display(messages)\n",
        "\n",
        "# llm_with_tools.invoke(\"What is the annual return of 10?\")"
      ],
      "metadata": {
        "colab": {
          "base_uri": "https://localhost:8080/",
          "height": 34
        },
        "id": "lP5_EQBqXxyT",
        "outputId": "7401ebba-385a-48cd-f7bf-37b0a3c52171"
      },
      "execution_count": 33,
      "outputs": [
        {
          "output_type": "display_data",
          "data": {
            "text/plain": [
              "[HumanMessage(content='what is the annual return of 10?', additional_kwargs={}, response_metadata={})]"
            ]
          },
          "metadata": {}
        }
      ]
    },
    {
      "cell_type": "code",
      "source": [
        "ai_msg = llm_with_tools.invoke(messages)\n",
        "messages.append(ai_msg)\n",
        "display(ai_msg)"
      ],
      "metadata": {
        "colab": {
          "base_uri": "https://localhost:8080/",
          "height": 121
        },
        "id": "Oo4OjHOLi-yc",
        "outputId": "c21511fc-4194-4812-dbf6-2c759cc41077"
      },
      "execution_count": 34,
      "outputs": [
        {
          "output_type": "display_data",
          "data": {
            "text/plain": [
              "AIMessage(content='', additional_kwargs={'function_call': {'name': 'annual_return', 'arguments': '{\"a\": 10.0}'}}, response_metadata={'prompt_feedback': {'block_reason': 0, 'safety_ratings': []}, 'finish_reason': 'STOP', 'safety_ratings': [{'category': 'HARM_CATEGORY_HATE_SPEECH', 'probability': 'NEGLIGIBLE', 'blocked': False}, {'category': 'HARM_CATEGORY_DANGEROUS_CONTENT', 'probability': 'NEGLIGIBLE', 'blocked': False}, {'category': 'HARM_CATEGORY_HARASSMENT', 'probability': 'NEGLIGIBLE', 'blocked': False}, {'category': 'HARM_CATEGORY_SEXUALLY_EXPLICIT', 'probability': 'NEGLIGIBLE', 'blocked': False}]}, id='run-44afea81-df74-45c6-af2a-737b0435172f-0', tool_calls=[{'name': 'annual_return', 'args': {'a': 10.0}, 'id': '2b090d88-2c62-4e2a-8fce-f55cea107c5e', 'type': 'tool_call'}], usage_metadata={'input_tokens': 127, 'output_tokens': 4, 'total_tokens': 131, 'input_token_details': {'cache_read': 0}})"
            ]
          },
          "metadata": {}
        }
      ]
    },
    {
      "cell_type": "code",
      "source": [
        "ai_msg.tool_calls"
      ],
      "metadata": {
        "colab": {
          "base_uri": "https://localhost:8080/"
        },
        "id": "mRrWgvC1jCSl",
        "outputId": "139cfd37-97ea-4a6a-cb95-5c62f14a5f3c"
      },
      "execution_count": 35,
      "outputs": [
        {
          "output_type": "execute_result",
          "data": {
            "text/plain": [
              "[{'name': 'annual_return',\n",
              "  'args': {'a': 10.0},\n",
              "  'id': '2b090d88-2c62-4e2a-8fce-f55cea107c5e',\n",
              "  'type': 'tool_call'}]"
            ]
          },
          "metadata": {},
          "execution_count": 35
        }
      ]
    },
    {
      "cell_type": "code",
      "source": [
        "for tool_call in ai_msg.tool_calls:\n",
        "  selected_tool = {\n",
        "      \"add\": add,\n",
        "      \"annual_return\": annual_return,\n",
        "      \"multiply\": multiply\n",
        "  }[tool_call[\"name\"].lower()]\n",
        "  tool_msg = selected_tool.invoke(tool_call)\n",
        "  display(tool_msg)\n",
        "  messages.append(tool_msg)"
      ],
      "metadata": {
        "colab": {
          "base_uri": "https://localhost:8080/",
          "height": 34
        },
        "id": "hUA-4VNijF0J",
        "outputId": "52ba336a-ae0e-4173-db2d-2bbb6d4d3821"
      },
      "execution_count": 36,
      "outputs": [
        {
          "output_type": "display_data",
          "data": {
            "text/plain": [
              "ToolMessage(content='8.0', name='annual_return', tool_call_id='2b090d88-2c62-4e2a-8fce-f55cea107c5e')"
            ]
          },
          "metadata": {}
        }
      ]
    }
  ]
}
